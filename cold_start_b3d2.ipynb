{
  "nbformat": 4,
  "nbformat_minor": 0,
  "metadata": {
    "colab": {
      "provenance": [],
      "authorship_tag": "ABX9TyNJSnyoY/yjjQfBtSpG44We",
      "include_colab_link": true
    },
    "kernelspec": {
      "name": "python3",
      "display_name": "Python 3"
    },
    "language_info": {
      "name": "python"
    }
  },
  "cells": [
    {
      "cell_type": "markdown",
      "metadata": {
        "id": "view-in-github",
        "colab_type": "text"
      },
      "source": [
        "<a href=\"https://colab.research.google.com/github/LeeDongHun38/recommendation_LLM/blob/main/cold_start_b3d2.ipynb\" target=\"_parent\"><img src=\"https://colab.research.google.com/assets/colab-badge.svg\" alt=\"Open In Colab\"/></a>"
      ]
    },
    {
      "cell_type": "markdown",
      "source": [
        "# **Step 2. Cold-start 시나리오 실험**\n",
        "\n",
        "🎯 **목표**\n",
        "\n",
        "사용자 정보 없이, 순수하게 영화의 콘텐츠(줄거리, 리뷰 텍스트)가 얼마나 유사한지를 기반으로 비슷한 영화를 추천한다. 즉, 기본적으로는 \"이 영화와 비슷한 분위기의 다른 영화\"를 추천하는 방식이 된다.\n",
        "\n",
        "\n",
        "🎯 **사용 데이터**\n",
        "\n",
        "*   all_embeddings.npy (계산용 핵심 데이터)\n",
        "*   asin_to_index.pkl (조회 및 결과 해석용)\n",
        "*   index_to_asin.pkl (조회 및 결과 해석용)\n",
        "\n",
        "🎯 **예상 결과물**\n",
        "\n",
        "특정 영화 asin을 입력했을 때, 그 영화와 임베딩 벡터가 가장 유사한 다른 영화 asin 목록."
      ],
      "metadata": {
        "id": "OLY6uxWW2C99"
      }
    },
    {
      "cell_type": "markdown",
      "source": [
        "**세부 실행 계획**\n",
        "\n",
        "상대적으로 무거운 모델인 코사인 유사도 측정을 통해 추천 구현 -> 이후 가벼운 모델인 FAISS 를 사용해, 둘의 성능 비교\n",
        "\n",
        "성능이 비슷하다면 (추천 목록이 유사하면) 상대적 가벼운 모델인 FAISS를 사용, 경량화까지 의의를 둔다"
      ],
      "metadata": {
        "id": "llBfD9Db3OYt"
      }
    },
    {
      "cell_type": "markdown",
      "source": [
        "# **2.1 코사인 유사도를 통한 Cold-start 추천 구현**\n",
        "\n",
        "**코사인 유사도 (Cosine Similarity)**\n",
        "\n",
        "두 벡터 사이의 **'각도'**를 측정하여, 두 벡터가 얼마나 같은 방향을 가리키는지를 계산합니다. 결과는 -1에서 1 사이의 값으로 나오며, 1에 가까울수록 유사도가 높다는 의미입니다.\n",
        "\n",
        "**왜 사용하는가?**\n",
        "\n",
        "SentenceTransformer와 같은 임베딩 모델은 의미가 비슷한 문장을 벡터 공간에서 가까운 방향을 가리키도록 만듭니다. 따라서 두 영화 임베딩 벡터의 '방향'이 얼마나 비슷한지를 측정하는 코사인 유사도는, 두 영화의 '콘텐츠 의미'가 얼마나 유사한지를 측정하는 매우 효과적이고 직관적인 척도가 됩니다.\n",
        "\n",
        "**장점**\n",
        "\n",
        "\n",
        "*   정확성: 모든 벡터와 일일이 비교하므로(Brute-force), 이론적으로 가장 정확한 유사도 상위 N개를 찾을 수 있습니다.\n",
        "*   직관성: 원리가 간단하고 이해하기 쉽습니다.\n",
        "\n",
        "\n",
        "**단점**\n",
        "\n",
        "*   속도: 데이터가 많아질수록 계산량이 정비례하여 늘어납니다. 영화 1편과 나머지 26,000편을 비교하는 것은 괜찮지만, 만약 100만 편이 된다면 속도가 매우 느려져 실제 서비스에 사용하기 어렵습니다.\n",
        "\n",
        "\n"
      ],
      "metadata": {
        "id": "yDjpHUkF3nV8"
      }
    },
    {
      "cell_type": "code",
      "source": [
        "import pandas as pd\n",
        "import numpy as np\n",
        "import pickle\n",
        "from sklearn.metrics.pairwise import cosine_similarity\n",
        "import time"
      ],
      "metadata": {
        "id": "QcVT-iI22WAc"
      },
      "execution_count": null,
      "outputs": []
    },
    {
      "cell_type": "code",
      "source": [
        "from google.colab import drive\n",
        "\n",
        "drive.mount('/content/drive')"
      ],
      "metadata": {
        "colab": {
          "base_uri": "https://localhost:8080/"
        },
        "id": "4fpEpfpg4cck",
        "outputId": "b9b4645c-e094-46d4-d231-ad79276e2691"
      },
      "execution_count": null,
      "outputs": [
        {
          "output_type": "stream",
          "name": "stdout",
          "text": [
            "Mounted at /content/drive\n"
          ]
        }
      ]
    },
    {
      "cell_type": "code",
      "source": [
        "# 저장된 데이터 로드\n",
        "\n",
        "input_dir = '/content/drive/MyDrive/데사경영학술제/data/'\n",
        "df = pd.read_pickle(input_dir + 'final_movies_df.pkl')\n",
        "print(\"데이터 로드 완료.\")"
      ],
      "metadata": {
        "colab": {
          "base_uri": "https://localhost:8080/"
        },
        "id": "X8VH91v-Bjy8",
        "outputId": "d73aee7d-d6e0-4059-e2e3-9c81e4869fbd"
      },
      "execution_count": null,
      "outputs": [
        {
          "output_type": "stream",
          "name": "stdout",
          "text": [
            "데이터 로드 완료.\n"
          ]
        }
      ]
    },
    {
      "cell_type": "code",
      "source": [
        "# 리뷰 단위 데이터 -> 영화 단위 데이터 변환\n",
        "\n",
        "'''\n",
        "이유: 기존 df를 그대로 활용했더니, 리뷰의 유사도를 보고 판단해, 같은 영화들을 추천해줬다.\n",
        "즉, 다른 사람이 같은 영화를 보고 남긴 리뷰가 유사하니, 비슷한 영화로 판단해 같은 영화를 추천하는 문제 발생함.\n",
        "따라서 기존 리뷰 단위로 구성되어 있던 데이터를 영화단위로 수정하는 전처리 작업을 추가했다. 이는 같은 영화들을 그룹화해 평균 임베딩을 내는 방식으로 구현.\n",
        "'''\n",
        "\n",
        "\n",
        "# np.vstack을 사용하여 모든 임베딩을 하나의 큰 배열로 쌓은 후, 각 임베딩이 올바른 형태로 변환되도록 list comprehension을 사용\n",
        "\n",
        "embeddings_array = np.array([np.array(e) for e in df['embedding']])\n",
        "df['embedding_vectors'] = list(embeddings_array)\n",
        "\n",
        "\n",
        "# asin을 기준으로 그룹화하고, 각 영화의 대표 임베딩(평균)과 제목을 추출\n",
        "# as_index=False를 통해 그룹화한 asin을 열로 유지\n",
        "\n",
        "movie_df = df.groupby('asin', as_index=False).agg(\n",
        "    title=('title', 'first'),   # 첫 번째 제목을 대표 제목으로 사용\n",
        "    description=('description', 'first'),    # description도 필요하다면 추가\n",
        "    embedding=('embedding_vectors', lambda x: np.mean(np.vstack(x), axis=0))  # 임베딩 벡터들의 평균을 계산하여 대표 벡터로 삼음\n",
        ")"
      ],
      "metadata": {
        "id": "vO05xLztB4xE"
      },
      "execution_count": null,
      "outputs": []
    },
    {
      "cell_type": "code",
      "source": [
        "# just for check\n",
        "\n",
        "print(len(movie_df))\n",
        "print(movie_df.head())\n",
        "\n",
        "# 총 6613개의 행 존재, 즉 데이터셋에는 영화가 총 6613개 존재했다."
      ],
      "metadata": {
        "colab": {
          "base_uri": "https://localhost:8080/"
        },
        "id": "YRKmxAWhC4mx",
        "outputId": "cdd762f3-82bd-4111-dc78-430d5a80548d"
      },
      "execution_count": null,
      "outputs": [
        {
          "output_type": "stream",
          "name": "stdout",
          "text": [
            "6613\n",
            "         asin                                              title  \\\n",
            "0  B0002V7U1Y  Larry Bird: A Basketball Legend, 25th Annivers...   \n",
            "1  B00062IWNY        Chair Dancing Fitness ?Through The Decades?   \n",
            "2  B0007ZA5EE  Cathe Friedrich Body Blast Kickboxing Kick, Pu...   \n",
            "3  B000812R20  Cathe Friedrich's Intensity Series: Pyramid Up...   \n",
            "4  B000GDBOPQ                                         South Park   \n",
            "\n",
            "                                         description  \\\n",
            "0  ['The complete DVD guide to Bird watching. Cel...   \n",
            "1  ['Exercise ... in Your Chair!Chair Dancing Fit...   \n",
            "2  [\"Cathe Friedrich's Kick, Punch and Crunch + L...   \n",
            "3  [\"Cathe Friedrich's Pyramid Lower + Upper Body...   \n",
            "4  ['This is the season that started it all! Join...   \n",
            "\n",
            "                                           embedding  \n",
            "0  [0.028488921, 0.023676472, -0.013285047, -0.11...  \n",
            "1  [-0.0049788035, -0.09142853, -0.025349244, -0....  \n",
            "2  [0.05669291, -0.049910106, -0.047095552, 0.048...  \n",
            "3  [-0.001709284, 0.019171046, -0.0039121523, -0....  \n",
            "4  [0.008319781, -0.09028961, -0.022871103, -0.09...  \n"
          ]
        }
      ]
    },
    {
      "cell_type": "code",
      "source": [
        "# 영화 단위 데이터 기준, 추천 시스템 준비\n",
        "\n",
        "all_movie_embeddings = np.array(movie_df['embedding'].tolist())   # 해당 영화에 대해 모든 사용자가 남긴 후기의 평균 임베딩 값.\n",
        "movie_asin_list = movie_df['asin'].tolist()   # all_movie_embeddings에 일치하는 영화 asin 값\n",
        "movie_asin_to_index = {asin: i for i, asin in enumerate(movie_asin_list)}   # 영화 asin을 입력하면, 그 영화가 all_movie_embeddings에 몇 번째 행에 있는지 알려주는 딕셔너리\n",
        "movie_index_to_asin = {i: asin for i, asin in enumerate(movie_asin_list)}   # 행렬의 인덱스 (행 번호)를 입력하면, 그 위치에 어떤 asin이 있는지 알려주는 딕셔너리\n",
        "\n",
        "print(f\"총 {len(movie_df)}개의 영화에 대한 변수 생성 완료.\")"
      ],
      "metadata": {
        "colab": {
          "base_uri": "https://localhost:8080/"
        },
        "id": "4fmGzi9qC8XB",
        "outputId": "417abe3e-fd5f-4598-9500-38c972f934a4"
      },
      "execution_count": null,
      "outputs": [
        {
          "output_type": "stream",
          "name": "stdout",
          "text": [
            "총 6613개의 영화에 대한 변수 생성 완료.\n"
          ]
        }
      ]
    },
    {
      "cell_type": "code",
      "source": [
        "# 추천 함수 정의\n",
        "\n",
        "def cos_recs(target_asin, top_n=10):\n",
        "    try:\n",
        "        target_idx = movie_asin_to_index[target_asin]   # target_asin을 입력받으면, 만들어둔 딕셔너리로 all_movie_embeddings의 몇 번째 행에 존재하는지 파악해 저장\n",
        "        target_vector = all_movie_embeddings[target_idx].reshape(1, -1)   # 해당 번째 행에 존재하는 벡터를 가져옴\n",
        "\n",
        "        sim_scores = cosine_similarity(target_vector, all_movie_embeddings)[0]    # 해당 영화의 벡터 (targtet_vector와 다른 모든 영화 벡터 간의 유사도 계산)\n",
        "        sim_indices = np.argsort(sim_scores)[::-1]    # 유사도 점수가 높은 순으로 반환.\n",
        "\n",
        "        top_indices = sim_indices[1:top_n+1]\n",
        "        top_scores = sim_scores[top_indices]\n",
        "\n",
        "        recommended_asins = [movie_index_to_asin[i] for i in top_indices]   # 추천된 영화 목록을 딕셔너리를 사용해 다시 asin 형태로 반환함\n",
        "\n",
        "        # 추천 결과를 movie_df에서 찾아 반환\n",
        "        recs_df = movie_df[movie_df['asin'].isin(recommended_asins)].copy()\n",
        "        recs_df['similarity'] = top_scores\n",
        "\n",
        "        # 추천된 순서대로 정렬\n",
        "        recs_ordered = recs_df.set_index('asin').loc[recommended_asins].reset_index()\n",
        "\n",
        "        return recs_ordered[['asin', 'title', 'similarity', 'description']]\n",
        "\n",
        "    except KeyError:\n",
        "        return f\"'{target_asin}'에 해당하는 영화를 찾을 수 없습니다.\"   # 만약 딕셔너리에 없는 asin이 들어오면, KeyError 출력"
      ],
      "metadata": {
        "id": "6hyE3m-bEgET"
      },
      "execution_count": null,
      "outputs": []
    },
    {
      "cell_type": "code",
      "source": [
        "# 함수 실행 및 결과 확인\n",
        "\n",
        "example_asin = movie_df['asin'].iloc[0]\n",
        "# expample_asin = input('asin을 하나 입력해주세요: ')\n",
        "movie_title = movie_df[movie_df['asin'] == example_asin]['title'].iloc[0]\n",
        "\n",
        "print(f\"\\n--- '{movie_title}' (asin: {example_asin})와(과) 비슷한 영화 추천 결과 ---\")\n",
        "\n",
        "start_time = time.time()\n",
        "recommendation_result = cos_recs(example_asin, top_n=5)\n",
        "end_time = time.time()\n",
        "elapsed_time = end_time - start_time\n",
        "\n",
        "print(recommendation_result)\n",
        "print(f\"\\n코사인 유사도 계산 소요 시간: {elapsed_time:.4f}초\")"
      ],
      "metadata": {
        "colab": {
          "base_uri": "https://localhost:8080/"
        },
        "id": "IoJX0gYoJEx8",
        "outputId": "19819364-7d94-482c-c2ea-d9c85fffa326"
      },
      "execution_count": null,
      "outputs": [
        {
          "output_type": "stream",
          "name": "stdout",
          "text": [
            "\n",
            "--- 'Larry Bird: A Basketball Legend, 25th Anniversary Edition [DVD]' (asin: B0002V7U1Y)와(과) 비슷한 영화 추천 결과 ---\n",
            "         asin                    title  similarity  \\\n",
            "0  B000HZEE64             Coach Carter    0.478220   \n",
            "1  B001MQT2VO               Fast Break    0.404486   \n",
            "2  B09C9S6S4N  Space Jam: A New Legacy    0.392270   \n",
            "3  B00A2YAEIW             The Birdcage    0.403521   \n",
            "4  B07P5X99P5   In Search of Greatness    0.399368   \n",
            "\n",
            "                                         description  \n",
            "0  ['A successful businessman returns to his high...  \n",
            "1  ['A New York delicatessen worker talks his way...  \n",
            "2  ['When LeBron James and his son are trapped in...  \n",
            "3  ['The son of gay club owner and his drag star ...  \n",
            "4  ['IN SEARCH OF GREATNESS is a groundbreaking d...  \n",
            "\n",
            "코사인 유사도 계산 소요 시간: 0.0123초\n"
          ]
        }
      ]
    },
    {
      "cell_type": "markdown",
      "source": [
        "**결과 분석 및 평가**\n",
        "\n",
        "\n",
        "\n",
        "---\n",
        "\n",
        "\n",
        "\n",
        "**긍정적인 측면 (모델이 잘 작동하고 있다는 증거)**\n",
        "\n",
        "1. 높은 주제적 연관성: 추천된 5개의 영화 중 4개는 타겟 영화인 '래리 버드' 다큐멘터리와 매우 높은 연관성을 가집니다.\n",
        "\n",
        "* Coach Carter, Hoosiers, Space Jam: A New Legacy: 모두 **농구(Basketball)**라는 핵심 주제를 공유합니다. 모델이 '농구 영화'라는 클러스터를 성공적으로 찾아냈음을 의미합니다.\n",
        "* In Search of Greatness: 스포츠 다큐멘터리라는 점에서 '래리 버드' 다큐멘터리와 장르적, 주제적 유사성이 매우 높습니다.\n",
        "* 이는 우리가 생성한 임베딩이 영화의 핵심 콘텐츠와 주제를 잘 파악하고 있음을 보여주는 강력한 증거입니다.\n",
        "\n",
        "2. 상대적 순위의 합리성: 진지한 농구 드라마인 '코치 카터'가 가장 높은 유사도(0.478)를 기록한 것은 매우 합리적인 결과입니다. 이는 모델이 단순 키워드 매칭을 넘어, 콘텐츠의 톤앤매너까지 어느 정도 감지하고 있음을 시사합니다.\n",
        "\n",
        "\n",
        "---\n",
        "\n",
        "\n",
        "\n",
        "**분석이 필요한 이상치 (Outlier)**\n",
        "\n",
        "'The Birdcage' 추천: 농구 레전드 '래리 버드(Larry Bird)'에 대한 추천 결과로, 농구와 전혀 관련 없는 코미디 영화 '버드케이지(The Birdcage)'가 포함된 점은 분석이 필요한 부분입니다.\n",
        "\n",
        "예상 원인: 'Bird'라는 단어의 영향력\n",
        "\n",
        "가장 가능성 높은 원인은 임베딩 모델이 두 영화의 제목과 내용에 공통적으로 포함된 'Bird'라는 키워드에 과도한 가중치를 부여했을 수 있다는 것입니다.\n",
        "SentenceTransformer와 같은 모델은 문맥을 이해하지만, 때로는 이처럼 강력하고 독특한 키워드가 전체적인 의미 판단에 예상보다 큰 영향을 미치기도 합니다. 이는 텍스트 기반 추천 모델이 가진 본질적인 한계 중 하나를 보여주는 흥미로운 사례입니다."
      ],
      "metadata": {
        "id": "ZETFb8On4yRP"
      }
    },
    {
      "cell_type": "markdown",
      "source": [],
      "metadata": {
        "id": "RKXjaExn4yKe"
      }
    },
    {
      "cell_type": "markdown",
      "source": [
        "# **2.2 FAISS를 이용한 Cold-start 추천 구현**\n",
        "\n",
        "FAISS의 목표는 코사인 유사도와 **'거의 동일한 결과'**를 내면서도, 검색 '속도'를 수십, 수백 배 이상 향상시키는 것입니다. 이를 위해 FAISS는 먼저 모든 벡터 데이터를 '인덱스(Index)'라는 특별한 구조로 만들어 둡니다. 이 인덱스는 데이터를 효율적으로 검색할 수 있도록 미리 정리해놓은 '색인'과 같습니다.\n",
        "\n",
        "인덱스 내에서 바로 추천이 가능하므로, 속도가 향상되는 구조."
      ],
      "metadata": {
        "id": "nW4R_erDMH4y"
      }
    },
    {
      "cell_type": "code",
      "source": [
        "!pip install faiss-cpu"
      ],
      "metadata": {
        "colab": {
          "base_uri": "https://localhost:8080/"
        },
        "id": "QHUSLxRXN1Qa",
        "outputId": "9bca2cf5-69c3-4b1e-f68d-540b9fcf3d89"
      },
      "execution_count": null,
      "outputs": [
        {
          "output_type": "stream",
          "name": "stdout",
          "text": [
            "Collecting faiss-cpu\n",
            "  Downloading faiss_cpu-1.11.0-cp311-cp311-manylinux_2_28_x86_64.whl.metadata (4.8 kB)\n",
            "Requirement already satisfied: numpy<3.0,>=1.25.0 in /usr/local/lib/python3.11/dist-packages (from faiss-cpu) (2.0.2)\n",
            "Requirement already satisfied: packaging in /usr/local/lib/python3.11/dist-packages (from faiss-cpu) (24.2)\n",
            "Downloading faiss_cpu-1.11.0-cp311-cp311-manylinux_2_28_x86_64.whl (31.3 MB)\n",
            "\u001b[2K   \u001b[90m━━━━━━━━━━━━━━━━━━━━━━━━━━━━━━━━━━━━━━━━\u001b[0m \u001b[32m31.3/31.3 MB\u001b[0m \u001b[31m81.0 MB/s\u001b[0m eta \u001b[36m0:00:00\u001b[0m\n",
            "\u001b[?25hInstalling collected packages: faiss-cpu\n",
            "Successfully installed faiss-cpu-1.11.0\n"
          ]
        }
      ]
    },
    {
      "cell_type": "code",
      "source": [
        "import pandas as pd\n",
        "import numpy as np\n",
        "import pickle\n",
        "import faiss\n",
        "import time"
      ],
      "metadata": {
        "id": "UoxupK7sMHj7"
      },
      "execution_count": null,
      "outputs": []
    },
    {
      "cell_type": "code",
      "source": [
        "from google.colab import drive\n",
        "\n",
        "drive.mount('/content/drive')"
      ],
      "metadata": {
        "colab": {
          "base_uri": "https://localhost:8080/"
        },
        "id": "F2qCKNMHOw4F",
        "outputId": "4a3319e9-cedd-43f2-c605-082a99e14d54"
      },
      "execution_count": null,
      "outputs": [
        {
          "output_type": "stream",
          "name": "stdout",
          "text": [
            "Mounted at /content/drive\n"
          ]
        }
      ]
    },
    {
      "cell_type": "code",
      "source": [
        "# 저장된 데이터 로드 (기존 2.1과 같은 구조)\n",
        "\n",
        "input_dir = '/content/drive/MyDrive/데사경영학술제/data/'\n",
        "movie_df = pd.read_pickle(input_dir + 'final_movies_df.pkl').groupby('asin', as_index=False).agg(\n",
        "    title=('title', 'first'),\n",
        "    description=('description', 'first'),\n",
        "    embedding=('embedding', lambda x: np.mean([np.array(e) for e in x], axis=0))\n",
        ")\n",
        "\n",
        "all_movie_embeddings = np.array(movie_df['embedding'].tolist(), dtype='float32')\n",
        "movie_asin_list = movie_df['asin'].tolist()\n",
        "movie_asin_to_index = {asin: i for i, asin in enumerate(movie_asin_list)}\n",
        "movie_index_to_asin = {i: asin for i, asin in enumerate(movie_asin_list)}"
      ],
      "metadata": {
        "id": "27fj4C9JOade"
      },
      "execution_count": null,
      "outputs": []
    },
    {
      "cell_type": "code",
      "source": [
        "# FAISS 인덱스 생성\n",
        "\n",
        "\n",
        "# 벡터의 차원 가져옴\n",
        "d = all_movie_embeddings.shape[1]\n",
        "\n",
        "# FAISS 인덱스를 초기화. IndexFlatIP는 Inner Product를 사용\n",
        "# 벡터가 정규화(normalized)된 경우, 내적은 코사인 유사도와 동일한 역할을 수행\n",
        "index = faiss.IndexFlatIP(d)\n",
        "\n",
        "# 따라서 벡터를 정규화하는 과정이 꼭 필요함\n",
        "faiss.normalize_L2(all_movie_embeddings)\n",
        "\n",
        "# 정규화된 임베딩 벡터들을 인덱스에 추가\n",
        "index.add(all_movie_embeddings)\n",
        "print(f\"인덱스 생성 완료. 총 {index.ntotal}개의 벡터가 인덱싱되었습니다.\")"
      ],
      "metadata": {
        "colab": {
          "base_uri": "https://localhost:8080/"
        },
        "id": "3ow7NxgSO4Hw",
        "outputId": "89f3cd0e-4963-4fd5-b64e-7064debcade8"
      },
      "execution_count": null,
      "outputs": [
        {
          "output_type": "stream",
          "name": "stdout",
          "text": [
            "인덱스 생성 완료. 총 6613개의 벡터가 인덱싱되었습니다.\n"
          ]
        }
      ]
    },
    {
      "cell_type": "code",
      "source": [
        "# FAISS 추천 함수 정의\n",
        "\n",
        "def faiss_recs(target_asin, top_n=10):\n",
        "    try:\n",
        "        # 타겟 영화의 벡터 검색\n",
        "        target_idx = movie_asin_to_index[target_asin]\n",
        "        target_vector = all_movie_embeddings[target_idx].reshape(1, -1)\n",
        "\n",
        "        # FAISS 인덱스 상에서 유사한 아이템을 검색\n",
        "        distances, indices = index.search(target_vector, top_n + 1)   # (유사도 점수 배열, 인덱스 배열)을 반환\n",
        "\n",
        "        # 검색된 인덱스와 점수를 추출 (자기 자신 제외)\n",
        "        top_indices = indices[0][1:]\n",
        "        top_scores = distances[0][1:]\n",
        "\n",
        "        # 인덱스를 asin으로 변환\n",
        "        recommended_asins = [movie_index_to_asin[i] for i in top_indices]\n",
        "\n",
        "        # 결과 df 생성\n",
        "        recs_df = pd.DataFrame({'asin': recommended_asins, 'similarity': top_scores})\n",
        "        meta_info = movie_df[['asin', 'title', 'description']]\n",
        "        final_recs = pd.merge(recs_df, meta_info, on='asin', how='left')\n",
        "\n",
        "        return final_recs\n",
        "\n",
        "    except KeyError:\n",
        "        return f\"'{target_asin}'에 해당하는 영화를 찾을 수 없습니다.\""
      ],
      "metadata": {
        "id": "gTeP029qRif_"
      },
      "execution_count": null,
      "outputs": []
    },
    {
      "cell_type": "code",
      "source": [
        "# 함수 실행 및 시간 측정\n",
        "\n",
        "example_asin = movie_df['asin'].iloc[0]\n",
        "# expample_asin = input('asin을 하나 입력해주세요: ')\n",
        "movie_title = movie_df[movie_df['asin'] == example_asin]['title'].iloc[0]\n",
        "\n",
        "print(f\"\\n--- '[FAISS] {movie_title}' (asin: {example_asin})와(과) 비슷한 영화 추천 결과 ---\")\n",
        "\n",
        "start_time = time.time()\n",
        "recommendation_result_faiss = faiss_recs(example_asin, top_n=5)\n",
        "end_time = time.time()\n",
        "elapsed_time_faiss = end_time - start_time\n",
        "\n",
        "print(recommendation_result_faiss)\n",
        "print(f\"\\nFAISS 검색 소요 시간: {elapsed_time_faiss:.4f}초\")"
      ],
      "metadata": {
        "colab": {
          "base_uri": "https://localhost:8080/"
        },
        "id": "f2pYb4pMR7-l",
        "outputId": "29b2a44e-4a17-4ff5-f345-6a63500a09bf"
      },
      "execution_count": null,
      "outputs": [
        {
          "output_type": "stream",
          "name": "stdout",
          "text": [
            "\n",
            "--- '[FAISS] Larry Bird: A Basketball Legend, 25th Anniversary Edition [DVD]' (asin: B0002V7U1Y)와(과) 비슷한 영화 추천 결과 ---\n",
            "         asin  similarity                    title  \\\n",
            "0  B000HZEE64    0.478220             Coach Carter   \n",
            "1  B001MQT2VO    0.404486               Fast Break   \n",
            "2  B09C9S6S4N    0.403521  Space Jam: A New Legacy   \n",
            "3  B00A2YAEIW    0.399368             The Birdcage   \n",
            "4  B07P5X99P5    0.392270   In Search of Greatness   \n",
            "\n",
            "                                         description  \n",
            "0  ['A successful businessman returns to his high...  \n",
            "1  ['A New York delicatessen worker talks his way...  \n",
            "2  ['When LeBron James and his son are trapped in...  \n",
            "3  ['The son of gay club owner and his drag star ...  \n",
            "4  ['IN SEARCH OF GREATNESS is a groundbreaking d...  \n",
            "\n",
            "FAISS 검색 소요 시간: 0.0123초\n"
          ]
        }
      ]
    }
  ]
}